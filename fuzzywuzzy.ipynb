{
  "nbformat": 4,
  "nbformat_minor": 0,
  "metadata": {
    "colab": {
      "name": "fuzzywuzzy.ipynb",
      "provenance": []
    },
    "kernelspec": {
      "name": "python3",
      "display_name": "Python 3"
    }
  },
  "cells": [
    {
      "cell_type": "code",
      "metadata": {
        "id": "EoBq5i5uoJ6P",
        "colab_type": "code",
        "colab": {
          "base_uri": "https://localhost:8080/",
          "height": 178
        },
        "outputId": "18ecb7b2-be7f-425f-dd0d-a89e8f5a0c60"
      },
      "source": [
        "with open(\"maps_to_omniture.txt\",\"r\") as f:\n",
        "  temp=f.read().split(\"\\n\")"
      ],
      "execution_count": 1,
      "outputs": [
        {
          "output_type": "error",
          "ename": "FileNotFoundError",
          "evalue": "ignored",
          "traceback": [
            "\u001b[0;31m---------------------------------------------------------------------------\u001b[0m",
            "\u001b[0;31mFileNotFoundError\u001b[0m                         Traceback (most recent call last)",
            "\u001b[0;32m<ipython-input-1-f40a169a3d19>\u001b[0m in \u001b[0;36m<module>\u001b[0;34m()\u001b[0m\n\u001b[0;32m----> 1\u001b[0;31m \u001b[0;32mwith\u001b[0m \u001b[0mopen\u001b[0m\u001b[0;34m(\u001b[0m\u001b[0;34m\"maps_to_omniture.txt\"\u001b[0m\u001b[0;34m,\u001b[0m\u001b[0;34m\"r\"\u001b[0m\u001b[0;34m)\u001b[0m \u001b[0;32mas\u001b[0m \u001b[0mf\u001b[0m\u001b[0;34m:\u001b[0m\u001b[0;34m\u001b[0m\u001b[0;34m\u001b[0m\u001b[0m\n\u001b[0m\u001b[1;32m      2\u001b[0m   \u001b[0mtemp\u001b[0m\u001b[0;34m=\u001b[0m\u001b[0mf\u001b[0m\u001b[0;34m.\u001b[0m\u001b[0mread\u001b[0m\u001b[0;34m(\u001b[0m\u001b[0;34m)\u001b[0m\u001b[0;34m.\u001b[0m\u001b[0msplit\u001b[0m\u001b[0;34m(\u001b[0m\u001b[0;34m\"\\n\"\u001b[0m\u001b[0;34m)\u001b[0m\u001b[0;34m\u001b[0m\u001b[0;34m\u001b[0m\u001b[0m\n",
            "\u001b[0;31mFileNotFoundError\u001b[0m: [Errno 2] No such file or directory: 'maps_to_omniture.txt'"
          ]
        }
      ]
    },
    {
      "cell_type": "code",
      "metadata": {
        "id": "cIiViPXxrCxI",
        "colab_type": "code",
        "colab": {
          "base_uri": "https://localhost:8080/",
          "height": 34
        },
        "outputId": "69e81aa2-3290-4383-8031-7e9b8cedf24c"
      },
      "source": [
        "len(temp)"
      ],
      "execution_count": null,
      "outputs": [
        {
          "output_type": "execute_result",
          "data": {
            "text/plain": [
              "14"
            ]
          },
          "metadata": {
            "tags": []
          },
          "execution_count": 19
        }
      ]
    },
    {
      "cell_type": "code",
      "metadata": {
        "id": "YpRCb6acwfsK",
        "colab_type": "code",
        "colab": {
          "base_uri": "https://localhost:8080/",
          "height": 54
        },
        "outputId": "b9b2d0bd-1d61-4903-e42f-3f955a447cee"
      },
      "source": [
        "print(temp)"
      ],
      "execution_count": null,
      "outputs": [
        {
          "output_type": "stream",
          "text": [
            "['omni ', \"omni's \", 'sftp ', 'hit-hourly ', 'files-missing-check ', 'mobile-dim ', 'bad-hit ', 'nit ', 'hit-plus ', 'pivot-exchange-rate ', 'transactions ', 'lob-shopper ', 'clicks ', 'vms ']\n"
          ],
          "name": "stdout"
        }
      ]
    },
    {
      "cell_type": "code",
      "metadata": {
        "id": "zYxvi5SprEhL",
        "colab_type": "code",
        "colab": {
          "base_uri": "https://localhost:8080/",
          "height": 54
        },
        "outputId": "f4306409-42d9-40e4-bcb6-536461cdf591"
      },
      "source": [
        "pip install fuzzywuzzy"
      ],
      "execution_count": null,
      "outputs": [
        {
          "output_type": "stream",
          "text": [
            "Requirement already satisfied: fuzzywuzzy in /usr/local/lib/python3.6/dist-packages (0.18.0)\n"
          ],
          "name": "stdout"
        }
      ]
    },
    {
      "cell_type": "code",
      "metadata": {
        "id": "2DK3OfnUrKwG",
        "colab_type": "code",
        "colab": {}
      },
      "source": [
        "from fuzzywuzzy import process"
      ],
      "execution_count": null,
      "outputs": []
    },
    {
      "cell_type": "code",
      "metadata": {
        "id": "Ul8pGzsCrUeC",
        "colab_type": "code",
        "colab": {}
      },
      "source": [
        "def get_matches(query, choices, limit=5):\n",
        "  results=process.extract(query, choices, limit=limit)\n",
        "  return results"
      ],
      "execution_count": null,
      "outputs": []
    },
    {
      "cell_type": "code",
      "metadata": {
        "id": "_rWyznI6rz5V",
        "colab_type": "code",
        "colab": {}
      },
      "source": [
        "lis=[\"omn\",\"omnii\",\"omniux\",\"sffftp\",\"hitt-ourly\",\"hiiiiit-hhourly\",\"hhy\",\"mobilephone-dim\",\"nit-plus-plus\",\"pivob\",\"transactioms\",\"lob-shopping\",\"clicks\",\"VMS\",\"bald-hitt\"]\n",
        "x=[]\n",
        "y=[]\n",
        "for i in lis:\n",
        "  y.append(get_matches(i,temp))\n",
        "  #y.clear()"
      ],
      "execution_count": null,
      "outputs": []
    },
    {
      "cell_type": "code",
      "metadata": {
        "id": "yHKjqzZxzEwh",
        "colab_type": "code",
        "colab": {
          "base_uri": "https://localhost:8080/",
          "height": 289
        },
        "outputId": "4de2f16c-bc14-4b3e-bf97-5cea3865d746"
      },
      "source": [
        "for i in lis:\n",
        "  print(get_matches(i,temp))\n"
      ],
      "execution_count": null,
      "outputs": [
        {
          "output_type": "stream",
          "text": [
            "[(\"omni's \", 90), ('omni ', 86), ('transactions ', 60), ('mobile-dim ', 36), ('nit ', 33)]\n",
            "[('omni ', 89), (\"omni's \", 73), ('nit ', 60), ('transactions ', 45), ('files-missing-check ', 36)]\n",
            "[('omni ', 90), (\"omni's \", 67), ('nit ', 60), ('transactions ', 40), ('hit-hourly ', 32)]\n",
            "[('sftp ', 80), ('nit ', 30), ('transactions ', 30), ('lob-shopper ', 30), ('vms ', 30)]\n",
            "[('hit-hourly ', 90), ('nit ', 60), ('hit-plus ', 56), ('mobile-dim ', 38), ('pivot-exchange-rate ', 36)]\n",
            "[('hit-hourly ', 81), ('nit ', 60), ('hit-plus ', 45), ('bad-hit ', 37), ('lob-shopper ', 31)]\n",
            "[('hit-hourly ', 46), ('files-missing-check ', 30), ('bad-hit ', 30), ('hit-plus ', 30), ('pivot-exchange-rate ', 30)]\n",
            "[('mobile-dim ', 86), ('omni ', 45), ('lob-shopper ', 38), ('pivot-exchange-rate ', 35), (\"omni's \", 34)]\n",
            "[('nit ', 90), ('hit-plus ', 86), ('omni ', 45), (\"omni's \", 45), ('sftp ', 45)]\n",
            "[('pivot-exchange-rate ', 72), ('mobile-dim ', 36), ('transactions ', 36), ('lob-shopper ', 36), ('nit ', 30)]\n",
            "[('transactions ', 92), (\"omni's \", 60), ('vms ', 60), ('omni ', 51), ('sftp ', 45)]\n",
            "[('lob-shopper ', 78), (\"omni's \", 45), ('sftp ', 45), ('files-missing-check ', 45), ('bad-hit ', 42)]\n",
            "[('clicks ', 100), ('files-missing-check ', 50), ('transactions ', 45), ('sftp ', 36), (\"omni's \", 33)]\n",
            "[('vms ', 100), ('files-missing-check ', 60), (\"omni's \", 44), ('mobile-dim ', 30), ('hit-plus ', 30)]\n",
            "[('bad-hit ', 88), ('nit ', 60), ('mobile-dim ', 42), ('hit-plus ', 35), ('hit-hourly ', 32)]\n"
          ],
          "name": "stdout"
        }
      ]
    },
    {
      "cell_type": "code",
      "metadata": {
        "id": "J14wAGHKxFkE",
        "colab_type": "code",
        "colab": {
          "base_uri": "https://localhost:8080/",
          "height": 289
        },
        "outputId": "44697b16-d500-4283-af8e-987a415a8c05"
      },
      "source": [
        "for i in y:\n",
        "  print(i)"
      ],
      "execution_count": null,
      "outputs": [
        {
          "output_type": "stream",
          "text": [
            "[(\"omni's \", 90), ('omni ', 86), ('transactions ', 60), ('mobile-dim ', 36), ('nit ', 33)]\n",
            "[('omni ', 89), (\"omni's \", 73), ('nit ', 60), ('transactions ', 45), ('files-missing-check ', 36)]\n",
            "[('omni ', 90), (\"omni's \", 67), ('nit ', 60), ('transactions ', 40), ('hit-hourly ', 32)]\n",
            "[('sftp ', 80), ('nit ', 30), ('transactions ', 30), ('lob-shopper ', 30), ('vms ', 30)]\n",
            "[('hit-hourly ', 90), ('nit ', 60), ('hit-plus ', 56), ('mobile-dim ', 38), ('pivot-exchange-rate ', 36)]\n",
            "[('hit-hourly ', 81), ('nit ', 60), ('hit-plus ', 45), ('bad-hit ', 37), ('lob-shopper ', 31)]\n",
            "[('hit-hourly ', 46), ('files-missing-check ', 30), ('bad-hit ', 30), ('hit-plus ', 30), ('pivot-exchange-rate ', 30)]\n",
            "[('mobile-dim ', 86), ('omni ', 45), ('lob-shopper ', 38), ('pivot-exchange-rate ', 35), (\"omni's \", 34)]\n",
            "[('nit ', 90), ('hit-plus ', 86), ('omni ', 45), (\"omni's \", 45), ('sftp ', 45)]\n",
            "[('pivot-exchange-rate ', 72), ('mobile-dim ', 36), ('transactions ', 36), ('lob-shopper ', 36), ('nit ', 30)]\n",
            "[('transactions ', 92), (\"omni's \", 60), ('vms ', 60), ('omni ', 51), ('sftp ', 45)]\n",
            "[('lob-shopper ', 78), (\"omni's \", 45), ('sftp ', 45), ('files-missing-check ', 45), ('bad-hit ', 42)]\n",
            "[('clicks ', 100), ('files-missing-check ', 50), ('transactions ', 45), ('sftp ', 36), (\"omni's \", 33)]\n",
            "[('vms ', 100), ('files-missing-check ', 60), (\"omni's \", 44), ('mobile-dim ', 30), ('hit-plus ', 30)]\n",
            "[('bad-hit ', 88), ('nit ', 60), ('mobile-dim ', 42), ('hit-plus ', 35), ('hit-hourly ', 32)]\n"
          ],
          "name": "stdout"
        }
      ]
    },
    {
      "cell_type": "code",
      "metadata": {
        "id": "I068GpXLzBdD",
        "colab_type": "code",
        "colab": {}
      },
      "source": [
        "lis_final=[] # will store all words mapping to omniture\n",
        "for i in y:\n",
        "  for z in i:\n",
        "    lis_final.append(z)\n",
        "    break\n",
        "    #print(\\n)"
      ],
      "execution_count": null,
      "outputs": []
    },
    {
      "cell_type": "code",
      "metadata": {
        "id": "O4ugnxbn00ff",
        "colab_type": "code",
        "colab": {
          "base_uri": "https://localhost:8080/",
          "height": 54
        },
        "outputId": "2c378aac-4ce3-4f08-d1bf-15ed68f63ff1"
      },
      "source": [
        "print(lis_final)"
      ],
      "execution_count": null,
      "outputs": [
        {
          "output_type": "stream",
          "text": [
            "[(\"omni's \", 90), ('omni ', 89), ('omni ', 90), ('sftp ', 80), ('hit-hourly ', 90), ('hit-hourly ', 81), ('hit-hourly ', 46), ('mobile-dim ', 86), ('nit ', 90), ('pivot-exchange-rate ', 72), ('transactions ', 92), ('lob-shopper ', 78), ('clicks ', 100), ('vms ', 100), ('bad-hit ', 88)]\n"
          ],
          "name": "stdout"
        }
      ]
    },
    {
      "cell_type": "code",
      "metadata": {
        "id": "IPkZjw3I1QBk",
        "colab_type": "code",
        "colab": {
          "base_uri": "https://localhost:8080/",
          "height": 521
        },
        "outputId": "6202d234-6567-4f06-d524-359aa3f10af4"
      },
      "source": [
        "for i in range(len(lis)):\n",
        "    print(lis[i])\n",
        "    print(lis_final[i])"
      ],
      "execution_count": null,
      "outputs": [
        {
          "output_type": "stream",
          "text": [
            "omn\n",
            "(\"omni's \", 90)\n",
            "omnii\n",
            "('omni ', 89)\n",
            "omniux\n",
            "('omni ', 90)\n",
            "sffftp\n",
            "('sftp ', 80)\n",
            "hitt-ourly\n",
            "('hit-hourly ', 90)\n",
            "hiiiiit-hhourly\n",
            "('hit-hourly ', 81)\n",
            "hhy\n",
            "('hit-hourly ', 46)\n",
            "mobilephone-dim\n",
            "('mobile-dim ', 86)\n",
            "nit-plus-plus\n",
            "('nit ', 90)\n",
            "pivob\n",
            "('pivot-exchange-rate ', 72)\n",
            "transactioms\n",
            "('transactions ', 92)\n",
            "lob-shopping\n",
            "('lob-shopper ', 78)\n",
            "clicks\n",
            "('clicks ', 100)\n",
            "VMS\n",
            "('vms ', 100)\n",
            "bald-hitt\n",
            "('bad-hit ', 88)\n"
          ],
          "name": "stdout"
        }
      ]
    },
    {
      "cell_type": "code",
      "metadata": {
        "id": "TsM4yB8K191N",
        "colab_type": "code",
        "colab": {}
      },
      "source": [
        "main_dict={}\n",
        "x=[]\n",
        "for i in lis_final:\n",
        "  x.append(i[0])\n",
        "main_dict[\"omniture\"]=lis+x\n"
      ],
      "execution_count": null,
      "outputs": []
    },
    {
      "cell_type": "code",
      "metadata": {
        "id": "4Y_Vzyld3JGu",
        "colab_type": "code",
        "colab": {
          "base_uri": "https://localhost:8080/",
          "height": 54
        },
        "outputId": "20afe168-df99-439a-af73-0af2eafcf6cb"
      },
      "source": [
        "for i in main_dict:\n",
        "  print(i,main_dict[i])"
      ],
      "execution_count": null,
      "outputs": [
        {
          "output_type": "stream",
          "text": [
            "omniture ['omn', 'omnii', 'omniux', 'sffftp', 'hitt-ourly', 'hiiiiit-hhourly', 'hhy', 'mobilephone-dim', 'nit-plus-plus', 'pivob', 'transactioms', 'lob-shopping', 'clicks', 'VMS', 'bald-hitt', \"omni's \", 'omni ', 'omni ', 'sftp ', 'hit-hourly ', 'hit-hourly ', 'hit-hourly ', 'mobile-dim ', 'nit ', 'pivot-exchange-rate ', 'transactions ', 'lob-shopper ', 'clicks ', 'vms ', 'bad-hit ']\n"
          ],
          "name": "stdout"
        }
      ]
    },
    {
      "cell_type": "code",
      "metadata": {
        "id": "TsY_Weqm3OWD",
        "colab_type": "code",
        "colab": {}
      },
      "source": [
        ""
      ],
      "execution_count": null,
      "outputs": []
    }
  ]
}